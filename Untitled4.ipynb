{
  "nbformat": 4,
  "nbformat_minor": 0,
  "metadata": {
    "colab": {
      "name": "Untitled4.ipynb",
      "provenance": [],
      "authorship_tag": "ABX9TyMhXFyNoJN6jz1T+2Ck2zG1",
      "include_colab_link": true
    },
    "kernelspec": {
      "name": "python3",
      "display_name": "Python 3"
    }
  },
  "cells": [
    {
      "cell_type": "markdown",
      "metadata": {
        "id": "view-in-github",
        "colab_type": "text"
      },
      "source": [
        "<a href=\"https://colab.research.google.com/github/Lokesh-tech/Data-science-web-app-using-streamlit-guided-project-in-coursera-/blob/main/Untitled4.ipynb\" target=\"_parent\"><img src=\"https://colab.research.google.com/assets/colab-badge.svg\" alt=\"Open In Colab\"/></a>"
      ]
    },
    {
      "cell_type": "markdown",
      "metadata": {
        "id": "jMx_-3W_YtQu"
      },
      "source": [
        ""
      ]
    },
    {
      "cell_type": "markdown",
      "metadata": {
        "id": "LuDSiudNYtaW"
      },
      "source": [
        ""
      ]
    },
    {
      "cell_type": "code",
      "metadata": {
        "id": "le6SWrVsZFc8"
      },
      "source": [
        ""
      ],
      "execution_count": null,
      "outputs": []
    },
    {
      "cell_type": "code",
      "metadata": {
        "id": "p6Zpm-kdZFhp"
      },
      "source": [
        ""
      ],
      "execution_count": null,
      "outputs": []
    },
    {
      "cell_type": "code",
      "metadata": {
        "id": "RWNlINy-ZFlU"
      },
      "source": [
        ""
      ],
      "execution_count": null,
      "outputs": []
    },
    {
      "cell_type": "code",
      "metadata": {
        "id": "FGhc5IY8ZFpA"
      },
      "source": [
        ""
      ],
      "execution_count": null,
      "outputs": []
    },
    {
      "cell_type": "code",
      "metadata": {
        "id": "WPJYvS27ZFsv"
      },
      "source": [
        ""
      ],
      "execution_count": null,
      "outputs": []
    },
    {
      "cell_type": "code",
      "metadata": {
        "id": "bpleiExJZFwO"
      },
      "source": [
        ""
      ],
      "execution_count": null,
      "outputs": []
    },
    {
      "cell_type": "code",
      "metadata": {
        "id": "gZ7Wvd50ZFzL"
      },
      "source": [
        ""
      ],
      "execution_count": null,
      "outputs": []
    },
    {
      "cell_type": "code",
      "metadata": {
        "id": "Wz-wmZIRZF3v"
      },
      "source": [
        "import streamlit as st\r\n",
        "import pandas as pd\r\n",
        "import numpy as np\r\n",
        "import pydeck as pdk\r\n",
        "import plotly.express as px"
      ],
      "execution_count": null,
      "outputs": []
    },
    {
      "cell_type": "code",
      "metadata": {
        "id": "ynfvDOW-ZYY7"
      },
      "source": [
        "DATE_TIME = \"date/time\"\r\n",
        "DATA_URL = (\r\n",
        "    \"/path/to/Motor_Vehicle_Collisions_-_Crashes.csv\"\r\n",
        ")\r\n",
        "\r\n",
        "st.title(\"Motor Vehicle Collisions in New York City\")\r\n",
        "st.markdown(\"This application is a Streamlit dashboard that can be used \"\r\n",
        "            \"to analyze motor vehicle collisions in NYC 🗽💥🚗\")\r\n"
      ],
      "execution_count": null,
      "outputs": []
    },
    {
      "cell_type": "code",
      "metadata": {
        "id": "xP_1MLInZF8g"
      },
      "source": [
        "@st.cache(persist=True)\r\n",
        "def load_data(nrows):\r\n",
        "    data = pd.read_csv(DATA_URL, nrows=nrows, parse_dates=[['CRASH_DATE', 'CRASH_TIME']])\r\n",
        "    data.dropna(subset=['LATITUDE', 'LONGITUDE'], inplace=True)\r\n",
        "    lowercase = lambda x: str(x).lower()\r\n",
        "    data.rename(lowercase, axis=\"columns\", inplace=True)\r\n",
        "    data.rename(columns={\"crash_date_crash_time\": \"date/time\"}, inplace=True)\r\n",
        "    #data = data[['date/time', 'latitude', 'longitude']]\r\n",
        "    return data\r\n",
        "\r\n"
      ],
      "execution_count": null,
      "outputs": []
    },
    {
      "cell_type": "code",
      "metadata": {
        "id": "iHEwL5XuZhrs"
      },
      "source": [
        "data = load_data(15000)\r\n",
        "data[['latitude','longitude']].to_csv('lat_long.csv', index=False)\r\n",
        "\r\n",
        "\r\n",
        "st.header(\"Where are the most people injured in NYC?\")\r\n",
        "injured_people = st.slider(\"Number of persons injured in vehicle collisions\", 0, 19)\r\n",
        "st.map(data.query(\"injured_persons >= @injured_people\")[[\"latitude\", \"longitude\"]].dropna(how=\"any\"))\r\n",
        "\r\n",
        "st.header(\"How many collisions occur during a given time of day?\")\r\n",
        "hour = st.slider(\"Hour to look at\", 0, 23)\r\n",
        "original_data = data\r\n",
        "data = data[data[DATE_TIME].dt.hour == hour]\r\n",
        "st.markdown(\"Vehicle collisions between %i:00 and %i:00\" % (hour, (hour + 1) % 24))\r\n",
        "\r\n",
        "midpoint = (np.average(data[\"latitude\"]), np.average(data[\"longitude\"]))\r\n",
        "st.write(pdk.Deck(\r\n",
        "    map_style=\"mapbox://styles/mapbox/light-v9\",\r\n",
        "    initial_view_state={\r\n",
        "        \"latitude\": midpoint[0],\r\n",
        "        \"longitude\": midpoint[1],\r\n",
        "        \"zoom\": 11,\r\n",
        "        \"pitch\": 50,\r\n",
        "    },\r\n",
        "    layers=[\r\n",
        "        pdk.Layer(\r\n",
        "        \"HexagonLayer\",\r\n",
        "        data=data[['date/time', 'latitude', 'longitude']],\r\n",
        "        get_position=[\"longitude\", \"latitude\"],\r\n",
        "        auto_highlight=True,\r\n",
        "        radius=100,\r\n",
        "        extruded=True,\r\n",
        "        pickable=True,\r\n",
        "        elevation_scale=4,\r\n",
        "        elevation_range=[0, 1000],\r\n",
        "        ),\r\n",
        "    ],\r\n",
        "))"
      ],
      "execution_count": null,
      "outputs": []
    },
    {
      "cell_type": "code",
      "metadata": {
        "id": "bEgdkd6yZoGT"
      },
      "source": [
        "if st.checkbox(\"Show raw data\", False):\r\n",
        "    st.subheader(\"Raw data by minute between %i:00 and %i:00\" % (hour, (hour + 1) % 24))\r\n",
        "    st.write(data)\r\n",
        "\r\n",
        "st.subheader(\"Breakdown by minute between %i:00 and %i:00\" % (hour, (hour + 1) % 24))\r\n",
        "filtered = data[\r\n",
        "    (data[DATE_TIME].dt.hour >= hour) & (data[DATE_TIME].dt.hour < (hour + 1))\r\n",
        "]\r\n",
        "hist = np.histogram(filtered[DATE_TIME].dt.minute, bins=60, range=(0, 60))[0]\r\n",
        "chart_data = pd.DataFrame({\"minute\": range(60), \"crashes\": hist})\r\n",
        "\r\n",
        "fig = px.bar(chart_data, x='minute', y='crashes', hover_data=['minute', 'crashes'], height=400)\r\n",
        "st.write(fig)\r\n",
        "\r\n",
        "st.header(\"Top 5 dangerous streets by affected class\")\r\n",
        "select = st.selectbox('Affected class', ['Pedestrians', 'Cyclists', 'Motorists'])\r\n",
        "\r\n",
        "if select == 'Pedestrians':\r\n",
        "    st.write(original_data.query(\"injured_pedestrians >= 1\")[[\"on_street_name\", \"injured_pedestrians\"]].sort_values(by=['injured_pedestrians'], ascending=False).dropna(how=\"any\")[:5])\r\n",
        "\r\n",
        "elif select == 'Cyclists':\r\n",
        "    st.write(original_data.query(\"injured_cyclists >= 1\")[[\"on_street_name\", \"injured_cyclists\"]].sort_values(by=['injured_cyclists'], ascending=False).dropna(how=\"any\")[:5])\r\n",
        "\r\n",
        "else:\r\n",
        "    st.write(original_data.query(\"injured_motorists >= 1\")[[\"on_street_name\", \"injured_motorists\"]].sort_values(by=['injured_motorists'], ascending=False).dropna(how=\"any\")[:5])\r\n"
      ],
      "execution_count": null,
      "outputs": []
    }
  ]
}